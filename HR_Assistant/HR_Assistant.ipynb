{
 "cells": [
  {
   "cell_type": "code",
   "execution_count": 1,
   "id": "d3f18b65",
   "metadata": {},
   "outputs": [],
   "source": [
    "import os\n",
    "from dotenv import load_dotenv\n",
    "from langchain_openai import ChatOpenAI\n",
    "from langchain.embeddings import HuggingFaceEmbeddings\n",
    "\n",
    "from langchain_community.document_loaders import TextLoader\n",
    "from langchain_community.vectorstores import FAISS\n",
    "from langchain_core.prompts import ChatPromptTemplate, MessagesPlaceholder\n",
    "from langchain.agents import create_openai_functions_agent, AgentExecutor\n",
    "from langchain.tools import tool"
   ]
  },
  {
   "cell_type": "code",
   "execution_count": 2,
   "id": "95aeddcb",
   "metadata": {},
   "outputs": [],
   "source": [
    "@tool\n",
    "def salary_calculator(base_salary:str,bonus_percentage:str)->str:\n",
    "    \"\"\"Calculate total salary by adding base salary and bonus amount\"\"\"\n",
    "    try:\n",
    "        base = float(base_salary.replace(\"$\", \"\").replace(\",\", \".\"))\n",
    "        bonus = base * float(bonus_percentage.strip(\"%\"))/ 100\n",
    "        total = base + bonus\n",
    "        return f\"Total Salary: ${total:,.2f} (Base: {base:,.2f} + Bonus:{bonus:,.2f})\"\n",
    "    except Exception as e:\n",
    "        return f\"Error calculating total salary: {e}\"\n",
    "   "
   ]
  },
  {
   "cell_type": "code",
   "execution_count": 3,
   "id": "b9562eac",
   "metadata": {},
   "outputs": [],
   "source": [
    "@tool\n",
    "def answer_hr_query(employee_info:str)-> str:\n",
    "    \"\"\"Answer general HR questions based on employee information.\"\"\"\n",
    "    try:\n",
    "        return f\"Based on employee information, {employee_info}\"\n",
    "    except Exception as e:\n",
    "        return f\"Error processing HR query: {e}\"\n"
   ]
  },
  {
   "cell_type": "code",
   "execution_count": 4,
   "id": "2a6d71c3",
   "metadata": {},
   "outputs": [],
   "source": [
    "tools = [salary_calculator, answer_hr_query]"
   ]
  },
  {
   "cell_type": "code",
   "execution_count": 5,
   "id": "4cf2c9c4",
   "metadata": {},
   "outputs": [],
   "source": [
    "input_documents = []\n",
    "\n",
    "for filename in os.listdir(\"./\"):\n",
    "    if filename.endswith(\".txt\"):\n",
    "        loader = TextLoader(filename)\n",
    "        input_documents.extend(loader.load())"
   ]
  },
  {
   "cell_type": "code",
   "execution_count": 6,
   "id": "01a9f78d",
   "metadata": {},
   "outputs": [
    {
     "data": {
      "text/plain": [
       "[Document(page_content='Employee Code: ANL_104\\nRole: Business Analyst\\nWork Location: Boston\\nWork Hours: 9 AM to 5:30 PM EST\\nAnnual Leave Policy: 21 days per year\\nCompensation: $ 95,000 \\nPerformance Bonus: 11% of base salary annually', metadata={'source': 'ANL_104.txt'}),\n",
       " Document(page_content='Employee Code: DEV_102\\nRole: Software Developer\\nWork Location: San Francisco\\nWork Hours: 10 AM to 7 PM PST\\nAnnual Leave Policy: 20 days per year\\nCompensation: $ 100,000 \\nPerformance Bonus: 10% of base salary annually', metadata={'source': 'DEV_102.txt'}),\n",
       " Document(page_content='Employee Code: DS_105\\nRole: Data Scientist\\nWork Location: Seattle\\nWork Hours: 10 AM to 6:30 PM PST\\nAnnual Leave Policy: 20 days per year\\nCompensation: $ 110,000 \\nPerformance Bonus: 14% of base salary annually', metadata={'source': 'DS_105.txt'}),\n",
       " Document(page_content='Employee Code: HR_103\\nRole: HR Executive\\nWork Location: Chicago\\nWork Hours: 9:30 AM to 6:30 PM CST\\nAnnual Leave Policy: 22 days per year\\nCompensation: $ 85,000 \\nPerformance Bonus: 12% of base salary annually', metadata={'source': 'HR_103.txt'})]"
      ]
     },
     "execution_count": 6,
     "metadata": {},
     "output_type": "execute_result"
    }
   ],
   "source": [
    "input_documents"
   ]
  },
  {
   "cell_type": "code",
   "execution_count": 7,
   "id": "cc701257",
   "metadata": {},
   "outputs": [
    {
     "name": "stdout",
     "output_type": "stream",
     "text": [
      "WARNING:tensorflow:From c:\\Users\\ekesk\\anaconda3\\Lib\\site-packages\\tf_keras\\src\\losses.py:2976: The name tf.losses.sparse_softmax_cross_entropy is deprecated. Please use tf.compat.v1.losses.sparse_softmax_cross_entropy instead.\n",
      "\n"
     ]
    }
   ],
   "source": [
    "embedding = HuggingFaceEmbeddings(model_name=\"sentence-transformers/all-MiniLM-L6-v2\")"
   ]
  },
  {
   "cell_type": "code",
   "execution_count": 8,
   "id": "3f6dac9b",
   "metadata": {},
   "outputs": [],
   "source": [
    "vectorstore = FAISS.from_documents(input_documents, embedding)"
   ]
  },
  {
   "cell_type": "code",
   "execution_count": 9,
   "id": "6b14a86b",
   "metadata": {},
   "outputs": [],
   "source": [
    "retriever = vectorstore.as_retriever()"
   ]
  },
  {
   "cell_type": "code",
   "execution_count": 10,
   "id": "762b4590",
   "metadata": {},
   "outputs": [],
   "source": [
    "llm = ChatOpenAI(model=\"gpt-4o-mini\", api_key=os.getenv(\"OPENAI_API_KEY\"))\n",
    "\n",
    "prompt = ChatPromptTemplate.from_messages(\n",
    "    [ (\"system\", \"You are a HR Assistant. Use the provided employee information to answer questions.\\n\\n Employee info:{context}\"),\n",
    "     (\"human\", \"{input}\"),\n",
    "     (MessagesPlaceholder(variable_name=\"agent_scratchpad\"))\n",
    "     ])\n",
    "   \n",
    "\n",
    "\n"
   ]
  },
  {
   "cell_type": "code",
   "execution_count": 11,
   "id": "c3ad596c",
   "metadata": {},
   "outputs": [],
   "source": [
    "agent = create_openai_functions_agent(llm=llm, tools=tools, prompt=prompt)"
   ]
  },
  {
   "cell_type": "code",
   "execution_count": 16,
   "id": "39041467",
   "metadata": {},
   "outputs": [],
   "source": [
    "# verbose = False => Bize geçici düşünmeyi göstermeyecektir.\n",
    "agent_executor =AgentExecutor(agent=agent, tools=tools, verbose=True)"
   ]
  },
  {
   "cell_type": "code",
   "execution_count": 17,
   "id": "ac884472",
   "metadata": {},
   "outputs": [],
   "source": [
    "employee_code = input(\"Enter employee code:\")\n",
    "employee_info = retriever.get_relevant_documents(employee_code, k=1)"
   ]
  },
  {
   "cell_type": "code",
   "execution_count": 18,
   "id": "bdbcb886",
   "metadata": {},
   "outputs": [
    {
     "name": "stdout",
     "output_type": "stream",
     "text": [
      "\n",
      "\n",
      "\u001b[1m> Entering new AgentExecutor chain...\u001b[0m\n",
      "\u001b[32;1m\u001b[1;3m\n",
      "Invoking: `salary_calculator` with `{'base_salary': '100000', 'bonus_percentage': '10'}`\n",
      "\n",
      "\n",
      "\u001b[0m\u001b[36;1m\u001b[1;3mTotal Salary: $110,000.00 (Base: 100,000.00 + Bonus:10,000.00)\u001b[0m\u001b[32;1m\u001b[1;3mThe total salary of the Software Developer (DEV_102) role is $110,000. This includes a base salary of $100,000 and a performance bonus of $10,000.\u001b[0m\n",
      "\n",
      "\u001b[1m> Finished chain.\u001b[0m\n",
      "The total salary of the Software Developer (DEV_102) role is $110,000. This includes a base salary of $100,000 and a performance bonus of $10,000.\n",
      "Exiting the chat...\n"
     ]
    }
   ],
   "source": [
    "while True:\n",
    "    query = input(\"Enter your query:\")\n",
    "    if query.lower() == \"exit\":\n",
    "        print(\"Exiting the chat...\")\n",
    "        break\n",
    "    \n",
    "    result = agent_executor.invoke({\"input\":query, \"context\":employee_info})\n",
    "    print(result[\"output\"])"
   ]
  }
 ],
 "metadata": {
  "kernelspec": {
   "display_name": "base",
   "language": "python",
   "name": "python3"
  },
  "language_info": {
   "codemirror_mode": {
    "name": "ipython",
    "version": 3
   },
   "file_extension": ".py",
   "mimetype": "text/x-python",
   "name": "python",
   "nbconvert_exporter": "python",
   "pygments_lexer": "ipython3",
   "version": "3.12.7"
  }
 },
 "nbformat": 4,
 "nbformat_minor": 5
}
